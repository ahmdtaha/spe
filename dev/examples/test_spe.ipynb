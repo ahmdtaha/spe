{
 "cells": [
  {
   "cell_type": "code",
   "execution_count": null,
   "metadata": {},
   "outputs": [
    {
     "name": "stdout",
     "output_type": "stream",
     "text": [
      "The autoreload extension is already loaded. To reload it, use:\n",
      "  %reload_ext autoreload\n"
     ]
    },
    {
     "name": "stderr",
     "output_type": "stream",
     "text": [
      "  0%|          | 0/1 [00:00<?, ?it/s]"
     ]
    }
   ],
   "source": [
    "%load_ext autoreload\n",
    "%autoreload 2\n",
    "\n",
    "import torch\n",
    "import spe\n",
    "import numpy as np\n",
    "import matplotlib.pyplot as plt\n",
    "from torch.fft import rfft, irfft\n",
    "device = 'cuda' if torch.cuda.is_available() else 'cpu'\n",
    "\n",
    "# sine or conv\n",
    "conv = False\n",
    "\n",
    "# number of layers to simulate\n",
    "n_layers = 1\n",
    "\n",
    "# dimension for the keys and queries\n",
    "keys_dim = 32\n",
    "num_heads = 8\n",
    "num_realizations = keys_dim\n",
    "num_sines = 10\n",
    "\n",
    "# create the positional encoder, with a specified max lag\n",
    "if conv:\n",
    "    encoder = spe.ConvSPE(ndim=1, in_features=spe_dim, kernel_size=200, num_heads=num_heads, num_realizations=num_realizations)\n",
    "else:\n",
    "    encoder = spe.SineSPE(num_heads=num_heads, in_features=keys_dim, num_sines=num_sines, num_realizations=num_realizations)\n",
    "encoder.to(device=device)\n",
    "\n",
    "# draw keys and queries, as one for the test (activate all patterns)\n",
    "n = 3000\n",
    "batchsize=16\n",
    "\n",
    "\n",
    "# generate some encodings of shape (batchsize, num, n)\n",
    "q = torch.ones(batchsize, n, num_heads, keys_dim, device=device, requires_grad=True)\n",
    "k = torch.ones(batchsize, n, num_heads, keys_dim, device=device, requires_grad=True)\n",
    "q[:, :, :, :4] = 1\n",
    "k[:, :, :, :4] = 1\n",
    "\n",
    "from tqdm import tqdm\n",
    "\n",
    "loss = 0\n",
    "for iteration in tqdm(range(n_layers)):\n",
    "    # compute the average attention matrix\n",
    "    q, k = encoder(q,k)\n",
    "\n",
    "    A = torch.mm(q[0,:,0,:], k[0,:,0,:].T)\n",
    "\n",
    "    loss = loss + A.sum()\n",
    "\n",
    "A = torch.mm(q[0,:,0,:].detach(), k[0,:,0,:].T.detach())\n",
    "    \n",
    "\n",
    "# display some queries and keys\n",
    "q = q.detach()\n",
    "k = k.detach()\n",
    "\n",
    "plt.figure(figsize=[20,10]);\n",
    "plt.subplot(121)\n",
    "plt.plot(k[0,:,0,0].cpu(),'k');\n",
    "plt.plot(q[0,:,0,0].cpu(),'r');\n",
    "plt.title('example encodings');\n",
    "plt.legend(['keys', 'queries']);\n",
    "\n",
    "# display the average dot product\n",
    "plt.subplot(122);\n",
    "plt.imshow(A.detach().cpu().numpy(), aspect='auto', interpolation='nearest');\n",
    "plt.title('Attention matrix');\n",
    "plt.colorbar();\n"
   ]
  },
  {
   "cell_type": "code",
   "execution_count": null,
   "metadata": {},
   "outputs": [],
   "source": []
  }
 ],
 "metadata": {
  "kernelspec": {
   "display_name": "at",
   "language": "python",
   "name": "at"
  },
  "language_info": {
   "codemirror_mode": {
    "name": "ipython",
    "version": 3
   },
   "file_extension": ".py",
   "mimetype": "text/x-python",
   "name": "python",
   "nbconvert_exporter": "python",
   "pygments_lexer": "ipython3",
   "version": "3.8.5"
  }
 },
 "nbformat": 4,
 "nbformat_minor": 4
}
