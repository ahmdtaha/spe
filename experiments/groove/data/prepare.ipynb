{
 "cells": [
  {
   "cell_type": "code",
   "execution_count": 109,
   "metadata": {},
   "outputs": [],
   "source": [
    "from collections import defaultdict\n",
    "from inspect import isclass\n",
    "import os\n",
    "from pathlib import Path\n",
    "import sys\n",
    "from typing import Callable, Union, Optional\n",
    "from tqdm import tqdm\n",
    "\n",
    "import muspy\n",
    "import numpy as np\n",
    "import sklearn.model_selection"
   ]
  },
  {
   "cell_type": "code",
   "execution_count": 2,
   "metadata": {},
   "outputs": [],
   "source": [
    "class Groove2GrooveDataset(muspy.RemoteFolderDataset):\n",
    "    \"\"\"Groove2Groove Dataset.\"\"\"\n",
    "\n",
    "    _sources = {\n",
    "        \"nes\": {\n",
    "            \"filename\": \"groove2groove-data-v1.0.0.tar.gz\",\n",
    "            \"url\": \"https://zenodo.org/record/3958000/files/groove2groove-data-v1.0.0.tar.gz?download=1\",\n",
    "            \"archive\": True,\n",
    "            \"size\": 236114569,\n",
    "            \"md5\": \"c407de7b3676267660c88dc6ee351c79\",\n",
    "            \"sha256\": \"b4ef60b8d0cf5c510868c1b10d560432a5412f809d47f51a092582158cb41c09\",\n",
    "        }\n",
    "    }\n",
    "    _extension = \"mid\"\n",
    "    \n",
    "    def __init__( \n",
    "        self,\n",
    "        root: Union[str, Path],\n",
    "        download_and_extract: bool = False,\n",
    "        cleanup: bool = False,\n",
    "        convert: bool = False,\n",
    "        kind: str = \"json\",\n",
    "        n_jobs: int = 1,\n",
    "        ignore_exceptions: bool = True,\n",
    "        use_converted: Optional[bool] = None,\n",
    "        part: str = \"train\"\n",
    "    ):\n",
    "        self.part = part\n",
    "        muspy.RemoteFolderDataset.__init__(\n",
    "            self, root=root, download_and_extract=download_and_extract,\n",
    "            cleanup=cleanup, convert=convert, kind=kind, n_jobs=n_jobs,\n",
    "            ignore_exceptions=ignore_exceptions, use_converted=use_converted)\n",
    "\n",
    "        path = self.root / 'groove2groove-data-v1.0.0' / 'midi' / part / 'fixed'\n",
    "        self.raw_filenames = sorted(\n",
    "            (\n",
    "                filename\n",
    "                for filename in path.rglob(\"*.\" + self._extension)\n",
    "            )\n",
    "        )\n",
    "        self._filenames = self.raw_filenames\n",
    "\n",
    "    @property\n",
    "    def converted_dir(self):\n",
    "        \"\"\"Path to the root directory of the converted dataset.\"\"\"\n",
    "        return self.root / \"_converted_{}\".format(self.part)\n",
    "\n",
    "    def read(self, filename: Union[str, Path]) -> muspy.Music:\n",
    "        \"\"\"Read a file into a Music object.\"\"\"\n",
    "        music = muspy.inputs.read_midi(self.root / filename)\n",
    "        \n",
    "        # Merge tracks of the same name\n",
    "        name_to_tracks = defaultdict(list)\n",
    "        for track in music.tracks:\n",
    "            name_to_tracks[track.name].append(track)\n",
    "        for name, tracks in name_to_tracks.items():\n",
    "            for track in tracks[1:]:\n",
    "                tracks[0].merge(track, override=False, remove_duplicate=False)\n",
    "                music.tracks.remove(track)\n",
    "\n",
    "        return music"
   ]
  },
  {
   "cell_type": "code",
   "execution_count": 3,
   "metadata": {},
   "outputs": [],
   "source": [
    "def _obj_filter(self, func: Callable[[muspy.Base], bool], attr: str, recursive: bool):\n",
    "    if attr in self._list_attributes:\n",
    "        setattr(self, attr, list(filter(func, getattr(self, attr))))\n",
    "    \n",
    "        attr_type = self._attributes[attr]\n",
    "        if recursive and isclass(attr_type) and issubclass(attr_type, muspy.Base):\n",
    "            if attr in self._list_attributes:\n",
    "                for item in getattr(self, attr):\n",
    "                    obj_filter(item, func, recursive=recursive)\n",
    "            elif getattr(self, attr) is not None:\n",
    "                obj_filter(getattr(self, attr), func, recursive=recursive)\n",
    "    \n",
    "\n",
    "def obj_filter(self, func: Callable[[muspy.Base], bool], attr: Optional[str] = None, recursive: bool = True):\n",
    "    if attr is None:\n",
    "        for attribute in self._attributes:\n",
    "            _obj_filter(self, func, attribute, recursive)\n",
    "    else:\n",
    "        _obj_filter(self, func, attr, recursive)\n",
    "    return self"
   ]
  },
  {
   "cell_type": "code",
   "execution_count": 31,
   "metadata": {
    "scrolled": true
   },
   "outputs": [
    {
     "name": "stderr",
     "output_type": "stream",
     "text": [
      "test: 100%|██████████| 1200/1200 [02:09<00:00,  9.27it/s]\n",
      "val: 100%|██████████| 1200/1200 [01:57<00:00, 10.24it/s]\n",
      "train: 100%|██████████| 5733/5733 [2:15:44<00:00,  1.42s/it]  \n"
     ]
    }
   ],
   "source": [
    "TRACK_NAMES = ['BB Bass', 'BB Drums', 'BB Guitar', 'BB Piano', 'BB Strings']\n",
    "OUT_DIR = Path('.')\n",
    "\n",
    "for part in ['test', 'val', 'train']:\n",
    "    data = Groove2GrooveDataset('/tmp/groove2groove-data', part=part, ignore_exceptions=False)\n",
    "    \n",
    "    (OUT_DIR / part).mkdir(parents=True, exist_ok=True)\n",
    "    \n",
    "    for music in tqdm(data, desc=part):\n",
    "        # Add missing tracks\n",
    "        for track_name in TRACK_NAMES:\n",
    "            if not any(track.name == track_name for track in music.tracks):\n",
    "                music.append(muspy.Track(name=track_name))\n",
    "\n",
    "        music.tracks.sort(key=lambda track: track.name)\n",
    "        assert [track.name for track in music.tracks] == TRACK_NAMES\n",
    "        \n",
    "        music.adjust_resolution(target=12)\n",
    "\n",
    "        # Get rid of first 2 bars\n",
    "        music.adjust_time(lambda t: t - 8 * music.resolution)\n",
    "        obj_filter(music, lambda obj: not hasattr(obj, 'time') or obj.time >= 0)\n",
    "        \n",
    "        # Add metadata\n",
    "        title, style, _ = music.metadata.source_filename.split('.')\n",
    "        music.metadata.title = f'{title}.{style}'\n",
    "\n",
    "        music.validate()\n",
    "\n",
    "        music.save((OUT_DIR / part / music.metadata.source_filename).with_suffix('.json'))"
   ]
  },
  {
   "cell_type": "code",
   "execution_count": 78,
   "metadata": {},
   "outputs": [],
   "source": [
    "styles = []\n",
    "\n",
    "for path in (OUT_DIR / 'train').iterdir():\n",
    "    _, substyle, _ = path.name.split('.')\n",
    "    styles.append(substyle.rsplit('_', maxsplit=1)[0])\n",
    "\n",
    "styles = sorted(set(styles))\n",
    "\n",
    "np.random.seed(0)\n",
    "styles_train, styles_test = sklearn.model_selection.train_test_split(styles, test_size=25)\n",
    "styles_train, styles_val = sklearn.model_selection.train_test_split(styles_train, test_size=25)\n",
    "_, styles_itest = sklearn.model_selection.train_test_split(styles_train, test_size=50)\n",
    "styles_itest, styles_ival = sklearn.model_selection.train_test_split(styles_itest, test_size=25)"
   ]
  },
  {
   "cell_type": "code",
   "execution_count": 79,
   "metadata": {},
   "outputs": [],
   "source": [
    "files_by_substyle = defaultdict(list)\n",
    "\n",
    "for path in (OUT_DIR / 'train').iterdir():\n",
    "    _, substyle, _ = path.name.split('.')\n",
    "    files_by_substyle[substyle].append(path)"
   ]
  },
  {
   "cell_type": "code",
   "execution_count": 112,
   "metadata": {},
   "outputs": [],
   "source": [
    "for part in ['train', 'train_lim', 'ival', 'itest', 'val', 'test']:\n",
    "    (OUT_DIR / 'train_split' / part).mkdir(parents=True)"
   ]
  },
  {
   "cell_type": "code",
   "execution_count": 113,
   "metadata": {},
   "outputs": [
    {
     "name": "stderr",
     "output_type": "stream",
     "text": [
      "Style MACY1_b has 1 files, skipping\n",
      "Style THEMBA_a has 1 files, skipping\n",
      "Style C_DARRYL_a has 1 files, skipping\n",
      "Style R_90DISC_b has 1 files, skipping\n",
      "Style JonLuce1_a has 1 files, skipping\n",
      "Style Melisa2_a has 1 files, skipping\n",
      "Style FUNKWALK_b has 1 files, skipping\n",
      "Style SWBALLAD_a has 1 files, skipping\n",
      "Style C2_LONE_a has 1 files, skipping\n",
      "Style BeachCar_b has 1 files, skipping\n",
      "Style REVEALED_b has 1 files, skipping\n"
     ]
    }
   ],
   "source": [
    "np.random.seed(0)\n",
    "for substyle, paths in files_by_substyle.items():\n",
    "    style, _ = substyle.rsplit('_', maxsplit=1)\n",
    "    if len(paths) != 2:\n",
    "        print(f'Style {substyle} has {len(paths)} files, skipping', file=sys.stderr)\n",
    "        continue\n",
    "    paths = sorted(paths)\n",
    "    np.random.shuffle(paths)\n",
    "    \n",
    "    if style in styles_test:\n",
    "        (OUT_DIR / 'train_split' / 'test' / paths[0].name).symlink_to(Path('..', '..') / paths[0])\n",
    "    elif style in styles_val:\n",
    "        (OUT_DIR / 'train_split' / 'val' / paths[0].name).symlink_to(Path('..', '..') / paths[0])\n",
    "    else:\n",
    "        for path in paths:\n",
    "            (OUT_DIR / 'train_split' / 'train' / path.name).symlink_to(Path('..', '..') / path)\n",
    "\n",
    "        if style in styles_itest:\n",
    "            (OUT_DIR / 'train_split' / 'itest' / paths[0].name).symlink_to(Path('..', '..') / paths[0])\n",
    "            paths = paths[1:]\n",
    "        elif style in styles_ival:\n",
    "            (OUT_DIR / 'train_split' / 'ival' / paths[0].name).symlink_to(Path('..', '..') / paths[0])\n",
    "            paths = paths[1:]\n",
    "\n",
    "        (OUT_DIR / 'train_split' / 'train_lim' / paths[-1].name).symlink_to(Path('..', '..') / paths[-1])"
   ]
  },
  {
   "cell_type": "code",
   "execution_count": 117,
   "metadata": {},
   "outputs": [
    {
     "name": "stdout",
     "output_type": "stream",
     "text": [
      "train_split/train 5522\n",
      "train_split/train_lim 2761\n",
      "train_split/test 50\n",
      "train_split/val 50\n",
      "train_split/itest 50\n",
      "train_split/ival 49\n"
     ]
    }
   ],
   "source": [
    "!for d in train_split/{train,train_lim,test,val,itest,ival}; do echo $d | tr '\\n' ' '; ls -1 $d | wc -l; done"
   ]
  }
 ],
 "metadata": {
  "kernelspec": {
   "display_name": "spe",
   "language": "python",
   "name": "spe"
  },
  "language_info": {
   "codemirror_mode": {
    "name": "ipython",
    "version": 3
   },
   "file_extension": ".py",
   "mimetype": "text/x-python",
   "name": "python",
   "nbconvert_exporter": "python",
   "pygments_lexer": "ipython3",
   "version": "3.7.3"
  }
 },
 "nbformat": 4,
 "nbformat_minor": 4
}
